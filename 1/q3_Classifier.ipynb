{
  "nbformat": 4,
  "nbformat_minor": 0,
  "metadata": {
    "colab": {
      "provenance": []
    },
    "kernelspec": {
      "name": "python3",
      "display_name": "Python 3"
    },
    "language_info": {
      "name": "python"
    }
  },
  "cells": [
    {
      "cell_type": "code",
      "execution_count": 1,
      "metadata": {
        "id": "W1NEF8GFdUxQ",
        "colab": {
          "base_uri": "https://localhost:8080/"
        },
        "outputId": "ea1f24ff-a089-40c3-e2c3-edb5c4920f1f"
      },
      "outputs": [
        {
          "output_type": "stream",
          "name": "stdout",
          "text": [
            "Drive already mounted at /content/drive; to attempt to forcibly remount, call drive.mount(\"/content/drive\", force_remount=True).\n"
          ]
        }
      ],
      "source": [
        "# mount google drive\n",
        "\n",
        "from google.colab import drive\n",
        "drive.mount('/content/drive')"
      ]
    },
    {
      "cell_type": "code",
      "source": [
        "data = \"/content/drive/MyDrive/Colab Notebooks/HW/ML/Q3_Dataset/*\""
      ],
      "metadata": {
        "id": "ZLKvbKa8flZb"
      },
      "execution_count": 2,
      "outputs": []
    },
    {
      "cell_type": "code",
      "source": [
        "import cv2 as cv\n",
        "import glob\n",
        "\n",
        "image_paths = glob.glob(data)\n",
        "features = []\n",
        "labels = []\n",
        "\n",
        "for image_path in image_paths:\n",
        "  img = cv.imread(image_path)\n",
        "  img = cv.cvtColor(img, cv.COLOR_BGR2RGB)\n",
        "\n",
        "  if img is not None:\n",
        "    features.append(img)\n",
        "\n",
        "    label = image_path.split(\"/\")[-1].removesuffix(\".jpg\")[0]\n",
        "    if label == 'm':\n",
        "      label = 0\n",
        "    else:\n",
        "      label = 1\n",
        "    labels.append(label)\n",
        "\n",
        "  else:\n",
        "    print(f\"Could not load image: {image_path}\")\n"
      ],
      "metadata": {
        "collapsed": true,
        "id": "5YneyMdEf4AR"
      },
      "execution_count": 3,
      "outputs": []
    },
    {
      "cell_type": "code",
      "source": [
        "def classify_image(image):\n",
        "    mean_r = image[:, :, 0].mean()\n",
        "    mean_b = image[:, :, 2].mean()\n",
        "\n",
        "    if mean_r > mean_b:\n",
        "        return 0  # ManU\n",
        "    else:\n",
        "        return 1  # Chelsea\n"
      ],
      "metadata": {
        "id": "i3l0a3ETf6Uz"
      },
      "execution_count": 4,
      "outputs": []
    },
    {
      "cell_type": "code",
      "source": [
        "from sklearn.metrics import confusion_matrix, accuracy_score, precision_score, recall_score\n",
        "\n",
        "y_pred = [classify_image(image) for image in features]\n",
        "\n",
        "cm = confusion_matrix(labels, y_pred)\n",
        "print(\"Confusion Matrix:\")\n",
        "print(cm)"
      ],
      "metadata": {
        "colab": {
          "base_uri": "https://localhost:8080/"
        },
        "id": "f-aqCYuKjs94",
        "outputId": "23648121-04b6-4cff-ecc9-7e8985670439"
      },
      "execution_count": 5,
      "outputs": [
        {
          "output_type": "stream",
          "name": "stdout",
          "text": [
            "Confusion Matrix:\n",
            "[[54  1]\n",
            " [21 46]]\n"
          ]
        }
      ]
    },
    {
      "cell_type": "code",
      "source": [
        "accuracy = accuracy_score(labels, y_pred)\n",
        "precision = precision_score(labels, y_pred)\n",
        "recall = recall_score(labels, y_pred)\n",
        "\n",
        "print(f\"Accuracy: {accuracy:.2f}\")\n",
        "print(f\"Precision: {precision:.2f}\")\n",
        "print(f\"Recall: {recall:.2f}\")"
      ],
      "metadata": {
        "colab": {
          "base_uri": "https://localhost:8080/"
        },
        "id": "7bb_8okInGcb",
        "outputId": "9e2c2034-0c57-4d3c-c556-465a830dd9c3"
      },
      "execution_count": 6,
      "outputs": [
        {
          "output_type": "stream",
          "name": "stdout",
          "text": [
            "Accuracy: 0.82\n",
            "Precision: 0.98\n",
            "Recall: 0.69\n"
          ]
        }
      ]
    }
  ]
}